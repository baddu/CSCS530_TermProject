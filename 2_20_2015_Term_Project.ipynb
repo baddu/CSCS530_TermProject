{
 "cells": [
  {
   "cell_type": "markdown",
   "metadata": {},
   "source": [
    "##Term Project - Understanding the Impact of various intervention strategies on Building’s                                                    Energy Usage through Agent Based Models\n",
    "### Author: Bharadwaj Mantha\n",
    "#### Complex Systems 530 - Computer Modeling of Complex Systems (Winter 2015)\n",
    "  * Course ID: CMPLXSYS 530\n",
    "  * Course Title: Computer Modeling of Complex Systems\n",
    "  * Term: Winter 2015 \n",
    "  * Date modified - 2_27_2015"
   ]
  },
  {
   "cell_type": "markdown",
   "metadata": {},
   "source": [
    "# Goal\n",
    "\n",
    "The main objective of this project is to create an agent based model, simulate the effects of dynamic occupant interactions and interventions such as variations in the building performance levels in reducing the energy usage of the building. \n",
    "\n",
    "## Defining the Model\n",
    "\n",
    "The model will have three different types of agents (occupants: Low, Medium, and High energy users) using the space (building) and affecting the energy usage in buildings. All agents interact in the space and there is a probability of one agent converting into another type. \n",
    "\n",
    "### Model Parameters\n",
    "\n",
    "* Agents - population_size \n",
    "         - initial_low_users\n",
    "         - initial_medium_users\n",
    "         - initial_high_users\n",
    "* Environment - grid_size\n",
    "              - "
   ]
  },
  {
   "cell_type": "code",
   "execution_count": 33,
   "metadata": {
    "collapsed": false
   },
   "outputs": [
    {
     "ename": "NameError",
     "evalue": "name 'model' is not defined",
     "output_type": "error",
     "traceback": [
      "\u001b[1;31m---------------------------------------------------------------------------\u001b[0m",
      "\u001b[1;31mNameError\u001b[0m                                 Traceback (most recent call last)",
      "\u001b[1;32m<ipython-input-33-6de33db0a35e>\u001b[0m in \u001b[0;36m<module>\u001b[1;34m()\u001b[0m\n\u001b[0;32m     30\u001b[0m             \u001b[1;32mreturn\u001b[0m \u001b[0muser_type\u001b[0m\u001b[1;33m\u001b[0m\u001b[0m\n\u001b[0;32m     31\u001b[0m \u001b[1;33m\u001b[0m\u001b[0m\n\u001b[1;32m---> 32\u001b[1;33m \u001b[0mAgent_type\u001b[0m \u001b[1;33m=\u001b[0m \u001b[0mBuilding_Agents\u001b[0m\u001b[1;33m(\u001b[0m\u001b[0mmodel\u001b[0m\u001b[1;33m)\u001b[0m\u001b[1;33m\u001b[0m\u001b[0m\n\u001b[0m\u001b[0;32m     33\u001b[0m \u001b[1;32mprint\u001b[0m \u001b[0mAgent_type\u001b[0m\u001b[1;33m.\u001b[0m\u001b[0mget_User_Type\u001b[0m\u001b[1;33m(\u001b[0m\u001b[1;33m)\u001b[0m\u001b[1;33m\u001b[0m\u001b[0m\n\u001b[0;32m     34\u001b[0m \u001b[1;33m\u001b[0m\u001b[0m\n",
      "\u001b[1;31mNameError\u001b[0m: name 'model' is not defined"
     ]
    }
   ],
   "source": [
    "# Scientific computing imports\n",
    "import numpy \n",
    "import numpy.random\n",
    "\n",
    "class Building_Agents():\n",
    "    \n",
    "    def __init__ (self, model,\n",
    "                        user_type = \"Medium_USer\",\n",
    "                        LowUserConsume = 200,\n",
    "                        MediumUserConsume = 300,\n",
    "                        HighUserConsume = 400\n",
    "                  ):\n",
    "        self.model = model\n",
    "        self.user_type = user_type\n",
    "        self.LowUserConsume = LowUserConsume\n",
    "        self.MediumUserConsume = MediumUserConsume\n",
    "        self.HighUserConsume = HighUserConsume\n",
    "        #self.seed = seed\n",
    "    def get_User_Type(self):\n",
    "        random_number = numpy.random.randint(0,100)\n",
    "        if (0 < random_number <= 33):\n",
    "            user_type = \"Low_User\"\n",
    "            return user_type\n",
    "        elif (33 < random_number <= 66):\n",
    "            user_type = \"Medium_User\"\n",
    "            return user_type\n",
    "        else:\n",
    "            user_type = \"High_User\"\n",
    "            return user_type\n",
    "\n",
    "Agent_type = Building_Agents()\n",
    "print Agent_type.get_User_Type()\n",
    "        "
   ]
  },
  {
   "cell_type": "code",
   "execution_count": null,
   "metadata": {
    "collapsed": true
   },
   "outputs": [],
   "source": []
  },
  {
   "cell_type": "code",
   "execution_count": 25,
   "metadata": {
    "collapsed": false
   },
   "outputs": [],
   "source": []
  },
  {
   "cell_type": "code",
   "execution_count": null,
   "metadata": {
    "collapsed": true
   },
   "outputs": [],
   "source": []
  },
  {
   "cell_type": "code",
   "execution_count": 12,
   "metadata": {
    "collapsed": false
   },
   "outputs": [
    {
     "name": "stdout",
     "output_type": "stream",
     "text": [
      "[[ nan  nan  nan  nan  nan  nan  nan  nan  nan  nan  nan  nan  nan  nan\n",
      "   nan  nan  nan  nan  nan  nan]\n",
      " [ nan  nan  nan  nan  nan  nan  nan  nan  nan  nan  nan  nan  nan  nan\n",
      "   nan  nan  nan  nan  nan  nan]\n",
      " [ nan  nan  nan  nan  nan  nan  nan  nan  nan  nan  nan  nan  nan  nan\n",
      "   nan  nan  nan  nan  nan  nan]\n",
      " [ nan  nan  nan  nan  nan  nan  nan  nan  nan  nan  nan  nan  nan  nan\n",
      "   nan  nan  nan  nan  nan  nan]\n",
      " [ nan  nan  nan  nan  nan  nan  nan  nan  nan  nan  nan  nan  nan  nan\n",
      "   nan  nan  nan  nan  nan  nan]\n",
      " [ nan  nan  nan  nan  nan  nan  nan  nan  nan  nan  nan  nan  nan  nan\n",
      "   nan  nan  nan  nan  nan  nan]\n",
      " [ nan  nan  nan  nan  nan  nan  nan  nan  nan  nan  nan  nan  nan  nan\n",
      "   nan  nan  nan  nan  nan  nan]\n",
      " [ nan  nan  nan  nan  nan  nan  nan  nan  nan  nan  nan  nan  nan  nan\n",
      "   nan  nan  nan  nan  nan  nan]\n",
      " [ nan  nan  nan  nan  nan  nan  nan  nan  nan  nan  nan  nan  nan  nan\n",
      "   nan  nan  nan  nan  nan  nan]\n",
      " [ nan  nan  nan  nan  nan  nan  nan  nan  nan  nan  nan  nan  nan  nan\n",
      "   nan  nan  nan  nan  nan  nan]\n",
      " [ nan  nan  nan  nan  nan  nan  nan  nan  nan  nan  nan  nan  nan  nan\n",
      "   nan  nan  nan  nan  nan  nan]\n",
      " [ nan  nan  nan  nan  nan  nan  nan  nan  nan  nan  nan  nan  nan  nan\n",
      "   nan  nan  nan  nan  nan  nan]\n",
      " [ nan  nan  nan  nan  nan  nan  nan  nan  nan  nan  nan  nan  nan  nan\n",
      "   nan  nan  nan  nan  nan  nan]\n",
      " [ nan  nan  nan  nan  nan  nan  nan  nan  nan  nan  nan  nan  nan  nan\n",
      "   nan  nan  nan  nan  nan  nan]\n",
      " [ nan  nan  nan  nan  nan  nan  nan  nan  nan  nan  nan  nan  nan  nan\n",
      "   nan  nan  nan  nan  nan  nan]\n",
      " [ nan  nan  nan  nan  nan  nan  nan  nan  nan  nan  nan  nan  nan  nan\n",
      "   nan  nan  nan  nan  nan  nan]\n",
      " [ nan  nan  nan  nan  nan  nan  nan  nan  nan  nan  nan  nan  nan  nan\n",
      "   nan  nan  nan  nan  nan  nan]\n",
      " [ nan  nan  nan  nan  nan  nan  nan  nan  nan  nan  nan  nan  nan  nan\n",
      "   nan  nan  nan  nan  nan  nan]\n",
      " [ nan  nan  nan  nan  nan  nan  nan  nan  nan  nan  nan  nan  nan  nan\n",
      "   nan  nan  nan  nan  nan  nan]\n",
      " [ nan  nan  nan  nan  nan  nan  nan  nan  nan  nan  nan  nan  nan  nan\n",
      "   nan  nan  nan  nan  nan  nan]]\n"
     ]
    }
   ],
   "source": [
    "# Scientific computing imports\n",
    "import numpy \n",
    "\n",
    "class Model(object):\n",
    "    \n",
    "    def __init__(self,grid_size):\n",
    "        \n",
    "        self.grid_size = grid_size\n",
    "        \n",
    "    def setup_space(self):\n",
    "        \"\"\"\n",
    "        Method to setup the space.\n",
    "        \"\"\"\n",
    "        # Initialize a space with a NaN's\n",
    "        self.space = numpy.full((self.grid_size, self.grid_size), numpy.nan)\n",
    "        print self.space\n",
    "        \n",
    "    def setup_Agents(self):\n",
    "        \"\"\"\n",
    "        Method to setup the space.\n",
    "        \"\"\"\n",
    "        \n",
    "        # First, begin by creating all agents without placing them.\n",
    "        for i in xrange(self.population_size):\n",
    "            self.people.append(Building_Agents(model=self))\n",
    "        # Second, once created, place them into the space.\n",
    "        for person in self.people:\n",
    "            # Loop until unique\n",
    "            is_occupied = True\n",
    "            while is_occupied:\n",
    "                # Sample location\n",
    "                random_x = numpy.random.randint(0, self.grid_size)\n",
    "                random_y = numpy.random.randint(0, self.grid_size)\n",
    "                \n",
    "                # Check if unique\n",
    "                if numpy.isnan(self.space[random_x, random_y]):\n",
    "                    is_occupied = False\n",
    "                else:\n",
    "                    is_occupied = True\n",
    "            \n",
    "            # Now place the person there by setting their ID.\n",
    "            self.space[random_x, random_y] = person.person_id\n",
    "            \n",
    "        # Third, pick one person to be infected initially.\n",
    "        random_infected = numpy.random.choice(range(self.population_size))\n",
    "        self.people[random_infected].is_infected = True\n",
    "        self.num_infected += 1\n",
    "\n",
    "m=Model(20)\n",
    "m.setup_space()"
   ]
  },
  {
   "cell_type": "code",
   "execution_count": null,
   "metadata": {
    "collapsed": true
   },
   "outputs": [],
   "source": []
  },
  {
   "cell_type": "code",
   "execution_count": null,
   "metadata": {
    "collapsed": true
   },
   "outputs": [],
   "source": []
  }
 ],
 "metadata": {
  "kernelspec": {
   "display_name": "Python 2",
   "name": "python2"
  },
  "language_info": {
   "codemirror_mode": {
    "name": "ipython",
    "version": 2
   },
   "file_extension": ".py",
   "mimetype": "text/x-python",
   "name": "python",
   "nbconvert_exporter": "python",
   "pygments_lexer": "ipython2",
   "version": "2.7.8"
  }
 },
 "nbformat": 4,
 "nbformat_minor": 0
}
